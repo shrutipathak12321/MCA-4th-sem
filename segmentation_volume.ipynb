{
 "cells": [
  {
   "cell_type": "code",
   "execution_count": 18,
   "metadata": {},
   "outputs": [
    {
     "name": "stdout",
     "output_type": "stream",
     "text": [
      "Number of training files: 40\n",
      "Number of testing files: 11\n"
     ]
    }
   ],
   "source": [
    "import os\n",
    "from sklearn.model_selection import train_test_split\n",
    "import shutil\n",
    "\n",
    "# Function to split dataset into train and test sets\n",
    "def split_dataset(image_dir, gt_dir, test_size=0.2, random_state=42):\n",
    "    # Get list of image filenames\n",
    "    image_filenames = sorted(os.listdir(image_dir))\n",
    "    \n",
    "    # Get corresponding list of ground truth filenames\n",
    "    gt_filenames = sorted(os.listdir(gt_dir))\n",
    "    \n",
    "    # Split filenames into train and test sets\n",
    "    image_filenames_train, image_filenames_test, gt_filenames_train, gt_filenames_test = train_test_split(\n",
    "        image_filenames, gt_filenames, test_size=test_size, random_state=random_state)\n",
    "    \n",
    "    return (image_filenames_train, gt_filenames_train), (image_filenames_test, gt_filenames_test)\n",
    "\n",
    "# Example usage:\n",
    "image_dir = r\"Skullstriped\\\\t1_icbm_normal_1mm_pn1_rf20\\\\pgm\"\n",
    "gt_dir = r\"volumes\\\\phantom_1.0mm_normal_crisp\"\n",
    "test_size = 0.2  # 40% of the data will be used for testing\n",
    "random_state = 42  # Random seed for reproducibility\n",
    "\n",
    "# Split dataset into training and testing sets\n",
    "(train_files, train_gt_files), (test_files, test_gt_files) = split_dataset(image_dir, gt_dir, test_size, random_state)\n",
    "\n",
    "train_dir = 'Skullstriped/t1_icbm_normal_1mm_pn1_rf20/train'\n",
    "test_dir = 'Skullstriped/t1_icbm_normal_1mm_pn1_rf20/test'\n",
    "train_gt_dir = 'Skullstriped/t1_icbm_normal_1mm_pn1_rf20/train_masks'\n",
    "test_gt_dir = 'Skullstriped/t1_icbm_normal_1mm_pn1_rf20/test_masks'\n",
    "\n",
    "os.makedirs(train_dir, exist_ok=True)\n",
    "os.makedirs(test_dir, exist_ok=True)\n",
    "os.makedirs(train_gt_dir, exist_ok=True)\n",
    "os.makedirs(test_gt_dir, exist_ok=True)\n",
    "\n",
    "# Copy train files to train directory\n",
    "for file_name, gt_file_name in zip(train_files, train_gt_files):\n",
    "    shutil.copyfile(os.path.join(image_dir, file_name), os.path.join(train_dir, file_name))\n",
    "    shutil.copyfile(os.path.join(gt_dir, gt_file_name), os.path.join(train_gt_dir, gt_file_name))\n",
    "\n",
    "# Copy test files to test directory\n",
    "for file_name, gt_file_name in zip(test_files, test_gt_files):\n",
    "    shutil.copyfile(os.path.join(image_dir, file_name), os.path.join(test_dir, file_name))\n",
    "    shutil.copyfile(os.path.join(gt_dir, gt_file_name), os.path.join(test_gt_dir, gt_file_name))\n",
    "\n",
    "# Display the number of files in each split\n",
    "print(\"Number of training files:\", len(train_files))\n",
    "print(\"Number of testing files:\", len(test_files))\n"
   ]
  },
  {
   "cell_type": "code",
   "execution_count": 19,
   "metadata": {},
   "outputs": [],
   "source": [
    "import os\n",
    "\n",
    "def read_pgm(filename):\n",
    "    \"\"\"\n",
    "    Reads a PGM file and returns the image data as a 2D list.\n",
    "    \"\"\"\n",
    "    with open(filename, 'rb') as f:\n",
    "        # Skip comments\n",
    "        magic_number = f.readline().strip()\n",
    "        if magic_number != b'P2':\n",
    "            raise ValueError(\"Not a PGM file\")\n",
    "        while True:\n",
    "            line = f.readline().decode('utf-8').strip()\n",
    "            if not line.startswith('#'):\n",
    "                break\n",
    "\n",
    "        # Read the header\n",
    "        width, height = map(int, line.split())\n",
    "        max_val = int(f.readline())\n",
    "\n",
    "        # Read the image data\n",
    "        pixel_values = []\n",
    "        for _ in range(height):\n",
    "            row = map(int, f.readline().split())\n",
    "            pixel_values.extend(row)\n",
    "            \n",
    "        max_value = max(pixel_values)\n",
    "        # print(max_value)\n",
    "         # Normalize pixel values to range [0, 1]\n",
    "        pixel_values = [value / max_value for value in pixel_values]\n",
    "\n",
    "        return pixel_values\n",
    "\n",
    "def read_pgm_files_from_folder(folder_path):\n",
    "    \"\"\"\n",
    "    Reads all PGM files from a folder and returns their data as a list of pixel value lists.\n",
    "    \"\"\"\n",
    "    pgm_files_pixel_values = []\n",
    "    for i, filename in enumerate(os.listdir(folder_path)):\n",
    "        if filename.endswith('.pgm'):\n",
    "            file_path = os.path.join(folder_path, filename)\n",
    "            pixel_values = read_pgm(file_path)\n",
    "            pgm_files_pixel_values.append(pixel_values)\n",
    "    return pgm_files_pixel_values\n",
    "\n",
    "\n"
   ]
  },
  {
   "cell_type": "code",
   "execution_count": 20,
   "metadata": {},
   "outputs": [],
   "source": [
    "# Example usage:\n",
    "#folder_path = 'volumes/t1_icbm_normal_1mm_pn0_rf0/train'\n",
    "folder_path = 'Skullstriped/t1_icbm_normal_1mm_pn1_rf20/train'\n",
    "pgm_files_pixel_values = read_pgm_files_from_folder(folder_path)\n",
    "\n",
    "# Access pixel values using different lists\n",
    "for i, pixel_values in enumerate(pgm_files_pixel_values):\n",
    "    locals()[f\"train_pixel_values_{i}\"] = pixel_values\n",
    "\n",
    "# Access pixel values using dynamically created variable names\n",
    "#for i, pixel_values in enumerate(pgm_files_pixel_values):\n",
    "    #print(f\"Pixel values from file {i}: {locals()[f'train_pixel_values_{i}']}\")"
   ]
  },
  {
   "cell_type": "code",
   "execution_count": 21,
   "metadata": {},
   "outputs": [],
   "source": [
    "# Example usage:\n",
    "folder_path = 'Skullstriped/t1_icbm_normal_1mm_pn1_rf20/test'\n",
    "pgm_files_pixel_values = read_pgm_files_from_folder(folder_path)\n",
    "\n",
    "# Access pixel values using different lists\n",
    "for i, pixel_values in enumerate(pgm_files_pixel_values):\n",
    "    locals()[f\"test_pixel_values_{i}\"] = pixel_values\n",
    "\n",
    "# Access pixel values using dynamically created variable names\n",
    "#for i, pixel_values in enumerate(pgm_files_pixel_values):\n",
    "   # print(f\"Pixel values from file {i}: {locals()[f'test_pixel_values_{i}']}\")"
   ]
  },
  {
   "cell_type": "code",
   "execution_count": 22,
   "metadata": {},
   "outputs": [],
   "source": [
    "import os\n",
    "\n",
    "def read_pgm_mask(filename):\n",
    "    \"\"\"\n",
    "    Reads a PGM file and returns the image data as a 2D list.\n",
    "    \"\"\"\n",
    "    with open(filename, 'rb') as f:\n",
    "        # Skip comments\n",
    "        magic_number = f.readline().strip()\n",
    "        if magic_number != b'P2':\n",
    "            raise ValueError(\"Not a PGM file\")\n",
    "        while True:\n",
    "            line = f.readline().decode('utf-8').strip()\n",
    "            if not line.startswith('#'):\n",
    "                break\n",
    "\n",
    "        # Read the header\n",
    "        width, height = map(int, line.split())\n",
    "        max_val = int(f.readline())\n",
    "\n",
    "        # Read the image data\n",
    "        pixel_values = []\n",
    "        for _ in range(height):\n",
    "            row = map(int, f.readline().split())\n",
    "            pixel_values.extend(row)\n",
    "            \n",
    "       # Convert pixel values greater than 3 to 0\n",
    "        pixel_values = [0 if pixel > 3 else pixel for pixel in pixel_values]\n",
    "\n",
    "        return pixel_values\n",
    "\n",
    "def read_mask_pgm_files_from_folder(folder_path):\n",
    "    \"\"\"\n",
    "    Reads all PGM files from a folder and returns their data as a list of pixel value lists.\n",
    "    \"\"\"\n",
    "    pgm_files_pixel_values = []\n",
    "    for i, filename in enumerate(os.listdir(folder_path)):\n",
    "        if filename.endswith('.pgm'):\n",
    "            file_path = os.path.join(folder_path, filename)\n",
    "            pixel_values = read_pgm_mask(file_path)\n",
    "            pgm_files_pixel_values.append(pixel_values)\n",
    "    return pgm_files_pixel_values\n",
    "\n",
    "\n"
   ]
  },
  {
   "cell_type": "code",
   "execution_count": 23,
   "metadata": {},
   "outputs": [],
   "source": [
    "# Example usage:\n",
    "folder_path = 'Skullstriped/t1_icbm_normal_1mm_pn1_rf20/train_masks'\n",
    "pgm_files_pixel_values = read_mask_pgm_files_from_folder(folder_path)\n",
    "\n",
    "# Access pixel values using different lists\n",
    "for i, pixel_values in enumerate(pgm_files_pixel_values):\n",
    "    locals()[f\"train_mask_pixel_values_{i}\"] = pixel_values\n",
    "    \n"
   ]
  },
  {
   "cell_type": "code",
   "execution_count": 24,
   "metadata": {},
   "outputs": [],
   "source": [
    "# Example usage:\n",
    "folder_path = 'Skullstriped/t1_icbm_normal_1mm_pn1_rf20/test_masks'\n",
    "pgm_files_pixel_values = read_mask_pgm_files_from_folder(folder_path)\n",
    "\n",
    "# Access pixel values using different lists\n",
    "for i, pixel_values in enumerate(pgm_files_pixel_values):\n",
    "    locals()[f\"test_mask_pixel_values_{i}\"] = pixel_values\n",
    "    "
   ]
  },
  {
   "cell_type": "code",
   "execution_count": 25,
   "metadata": {},
   "outputs": [],
   "source": [
    "from sklearn.model_selection import train_test_split\n",
    "from sklearn.preprocessing import StandardScaler\n",
    "from sklearn.svm import SVC\n",
    "from sklearn.metrics import accuracy_score, classification_report, confusion_matrix, ConfusionMatrixDisplay\n"
   ]
  },
  {
   "cell_type": "code",
   "execution_count": 26,
   "metadata": {},
   "outputs": [],
   "source": [
    "height = 217\n",
    "width = 181\n",
    "\n",
    "model = SVC(kernel='rbf')\n",
    "\n",
    "for t in range(40):\n",
    "    X_train = []\n",
    "    k = 0\n",
    "    for i in range(width):\n",
    "        for j in range(height):\n",
    "            rows = []\n",
    "            rows.append(locals()[f'train_pixel_values_{t}'][k])\n",
    "            X_train.append(rows)\n",
    "            k += 1\n",
    "            \n",
    "    y_train = []\n",
    "    k = 0\n",
    "    for i in range(width):\n",
    "        for j in range(height):\n",
    "            y_train.append(locals()[f'train_mask_pixel_values_{t}'][k])\n",
    "            k += 1\n",
    "            \n",
    "    scaler = StandardScaler()\n",
    "    X_train_scaled = scaler.fit_transform(X_train)\n",
    "    \n",
    "    #Fit the model to the training data\n",
    "    model.fit(X_train_scaled, y_train)\n",
    "\n"
   ]
  },
  {
   "cell_type": "code",
   "execution_count": 27,
   "metadata": {},
   "outputs": [
    {
     "data": {
      "text/plain": [
       "['segmentation_model_skullstrip_1_20.sav']"
      ]
     },
     "execution_count": 27,
     "metadata": {},
     "output_type": "execute_result"
    }
   ],
   "source": [
    "import joblib\n",
    "filename='segmentation_model_skullstrip_1_20.sav'\n",
    "joblib.dump(model,filename)"
   ]
  },
  {
   "cell_type": "code",
   "execution_count": 28,
   "metadata": {},
   "outputs": [
    {
     "name": "stdout",
     "output_type": "stream",
     "text": [
      "Accuracy for iteration 1: 0.9586526465870612\n",
      "Accuracy for iteration 2: 0.9589581689029203\n",
      "Accuracy for iteration 3: 0.9621916134124296\n",
      "Accuracy for iteration 4: 0.9513964915854062\n",
      "Accuracy for iteration 5: 0.948952313058533\n",
      "Accuracy for iteration 6: 0.948468569391756\n",
      "Accuracy for iteration 7: 0.9548336176388217\n",
      "Accuracy for iteration 8: 0.948570410163709\n",
      "Accuracy for iteration 9: 0.7742699289660616\n",
      "Accuracy for iteration 10: 0.9467627364615424\n",
      "Accuracy for iteration 11: 0.9566922117269648\n",
      "Average Accuracy: 0.9372498825359279\n"
     ]
    }
   ],
   "source": [
    "\n",
    "total_accuracy = 0.0\n",
    "\n",
    "for t in range(11):         \n",
    "    X_test=[]\n",
    "    k=0\n",
    "    for i in range(width):\n",
    "        for j in range(height):\n",
    "            rows=[]\n",
    "            rows.append(locals()[f'test_pixel_values_{t}'][k])\n",
    "            X_test.append(rows)\n",
    "            k+=1\n",
    "            \n",
    "    y_test=[]\n",
    "    k=0\n",
    "    for i in range(width):\n",
    "        for j in range(height):\n",
    "            y_test.append(locals()[f'test_mask_pixel_values_{t}'][k])\n",
    "            k+=1\n",
    "            \n",
    "    scaler = StandardScaler() \n",
    "    scaler.fit(X_test)\n",
    "        \n",
    "    X_test_scaled = scaler.transform(X_test)\n",
    "    \n",
    "    y_pred = model.predict(X_test_scaled)\n",
    "\n",
    "    accuracy = accuracy_score(y_test, y_pred)\n",
    "    print(f\"Accuracy for iteration {t+1}: {accuracy}\")\n",
    "    \n",
    "    total_accuracy += accuracy\n",
    "\n",
    "average_accuracy = total_accuracy / 11\n",
    "print(f\"Average Accuracy: {average_accuracy}\")\n"
   ]
  },
  {
   "cell_type": "code",
   "execution_count": 29,
   "metadata": {},
   "outputs": [
    {
     "name": "stdout",
     "output_type": "stream",
     "text": [
      "432047\n",
      "432047\n"
     ]
    }
   ],
   "source": [
    "X_test = []\n",
    "y_test = []\n",
    "\n",
    "for t in range(11):\n",
    "    k = 0  # Reset the index for each file\n",
    "    l = 0  # Reset the index for each file\n",
    "    \n",
    "    # Load pixel values for the current file\n",
    "    test_pixel_values_t = locals().get(f'test_pixel_values_{t}', None)\n",
    "    if test_pixel_values_t is None:\n",
    "        continue  # Skip if data for current file is not found\n",
    "    \n",
    "    # Load mask pixel values for the current file\n",
    "    test_mask_pixel_values_t = locals().get(f'test_mask_pixel_values_{t}', None)\n",
    "    if test_mask_pixel_values_t is None:\n",
    "        continue  # Skip if data for current file is not found\n",
    "    \n",
    "    for i in range(width):\n",
    "        for j in range(height):\n",
    "            rows = []\n",
    "            rows.append(test_pixel_values_t[k])\n",
    "            X_test.append(rows)\n",
    "            k += 1\n",
    "            \n",
    "    for i in range(width):\n",
    "        for j in range(height):\n",
    "            y_test.append(test_mask_pixel_values_t[l])\n",
    "            l += 1\n",
    "            \n",
    "print(len(X_test))\n",
    "print(len(y_test))\n",
    "\n",
    "scaler = StandardScaler()\n",
    "X_train_scaled = scaler.fit_transform(X_train)\n",
    "X_test_scaled = scaler.transform(X_test)\n",
    "\n"
   ]
  },
  {
   "cell_type": "code",
   "execution_count": 30,
   "metadata": {},
   "outputs": [
    {
     "name": "stdout",
     "output_type": "stream",
     "text": [
      "Accuracy: 0.9061606723342599\n"
     ]
    }
   ],
   "source": [
    "y_pred = model.predict(X_test_scaled)\n",
    "\n",
    "accuracy = accuracy_score(y_test, y_pred)\n",
    "print(\"Accuracy:\", accuracy)"
   ]
  },
  {
   "cell_type": "code",
   "execution_count": 31,
   "metadata": {},
   "outputs": [
    {
     "data": {
      "image/png": "[encoded data removed]",
      "text/plain": [
       "<Figure size 640x480 with 2 Axes>"
      ]
     },
     "metadata": {},
     "output_type": "display_data"
    }
   ],
   "source": [
    "import matplotlib.pyplot as plt\n",
    "from sklearn.metrics import confusion_matrix, ConfusionMatrixDisplay\n",
    "\n",
    "cm = confusion_matrix(y_test, y_pred, labels=model.classes_)\n",
    "cm_display = ConfusionMatrixDisplay(confusion_matrix=cm, display_labels=model.classes_)\n",
    "cm_display.plot()\n",
    "plt.show()"
   ]
  },
  {
   "cell_type": "code",
   "execution_count": 32,
   "metadata": {},
   "outputs": [
    {
     "name": "stdout",
     "output_type": "stream",
     "text": [
      "              precision    recall  f1-score   support\n",
      "\n",
      "           0       0.97      0.96      0.96    216333\n",
      "           1       0.56      0.74      0.64     32148\n",
      "           2       0.88      0.84      0.86     98550\n",
      "           3       0.96      0.91      0.94     85016\n",
      "\n",
      "    accuracy                           0.91    432047\n",
      "   macro avg       0.84      0.86      0.85    432047\n",
      "weighted avg       0.92      0.91      0.91    432047\n",
      "\n"
     ]
    }
   ],
   "source": [
    "print(classification_report(y_test,y_pred))"
   ]
  },
  {
   "cell_type": "code",
   "execution_count": null,
   "metadata": {},
   "outputs": [],
   "source": []
  }
 ],
 "metadata": {
  "kernelspec": {
   "display_name": "Python 3",
   "language": "python",
   "name": "python3"
  },
  "language_info": {
   "codemirror_mode": {
    "name": "ipython",
    "version": 3
   },
   "file_extension": ".py",
   "mimetype": "text/x-python",
   "name": "python",
   "nbconvert_exporter": "python",
   "pygments_lexer": "ipython3",
   "version": "3.12.2"
  }
 },
 "nbformat": 4,
 "nbformat_minor": 2
}
