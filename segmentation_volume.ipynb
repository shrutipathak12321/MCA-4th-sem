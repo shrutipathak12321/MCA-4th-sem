{
 "cells": [
  {
   "cell_type": "code",
   "execution_count": 2,
   "metadata": {},
   "outputs": [],
   "source": [
    "import os\n",
    "from sklearn.model_selection import train_test_split\n",
    "import shutil\n",
    "from sklearn.model_selection import train_test_split\n",
    "from sklearn.preprocessing import StandardScaler\n",
    "from sklearn.svm import SVC\n",
    "from sklearn.metrics import accuracy_score, classification_report, confusion_matrix, ConfusionMatrixDisplay\n",
    "\n"
   ]
  },
  {
   "cell_type": "code",
   "execution_count": 3,
   "metadata": {},
   "outputs": [
    {
     "name": "stdout",
     "output_type": "stream",
     "text": [
      "Number of training files: 40\n",
      "Number of testing files: 11\n"
     ]
    }
   ],
   "source": [
    "\n",
    "# Function to split dataset into train and test sets\n",
    "def split_dataset(image_dir, gt_dir, test_size=0.2, random_state=42):\n",
    "    # Get list of image filenames\n",
    "    image_filenames = sorted(os.listdir(image_dir))\n",
    "    \n",
    "    # Get corresponding list of ground truth filenames\n",
    "    gt_filenames = sorted(os.listdir(gt_dir))\n",
    "    \n",
    "    # Split filenames into train and test sets\n",
    "    image_filenames_train, image_filenames_test, gt_filenames_train, gt_filenames_test = train_test_split(\n",
    "        image_filenames, gt_filenames, test_size=test_size, random_state=random_state)\n",
    "    \n",
    "    return (image_filenames_train, gt_filenames_train), (image_filenames_test, gt_filenames_test)\n",
    "\n",
    "# Example usage:\n",
    "image_dir = r\"Skullstriped2\\\\t1_icbm_normal_1mm_pn9_rf20\\\\pgm\"\n",
    "gt_dir = r\"volumes2\\\\phantom_1.0mm_normal_crisp\"\n",
    "test_size = 0.2  # 40% of the data will be used for testing\n",
    "random_state = 42  # Random seed for reproducibility\n",
    "\n",
    "# Split dataset into training and testing sets\n",
    "(train_files, train_gt_files), (test_files, test_gt_files) = split_dataset(image_dir, gt_dir, test_size, random_state)\n",
    "\n",
    "train_dir = 'Skullstriped2/t1_icbm_normal_1mm_pn9_rf20/train'\n",
    "test_dir = 'Skullstriped2/t1_icbm_normal_1mm_pn9_rf20/test'\n",
    "train_gt_dir = 'Skullstriped2/t1_icbm_normal_1mm_pn9_rf20/train_masks'\n",
    "test_gt_dir = 'Skullstriped2/t1_icbm_normal_1mm_pn9_rf20/test_masks'\n",
    "\n",
    "os.makedirs(train_dir, exist_ok=True)\n",
    "os.makedirs(test_dir, exist_ok=True)\n",
    "os.makedirs(train_gt_dir, exist_ok=True)\n",
    "os.makedirs(test_gt_dir, exist_ok=True)\n",
    "\n",
    "# Copy train files to train directory\n",
    "for file_name, gt_file_name in zip(train_files, train_gt_files):\n",
    "    shutil.copyfile(os.path.join(image_dir, file_name), os.path.join(train_dir, file_name))\n",
    "    shutil.copyfile(os.path.join(gt_dir, gt_file_name), os.path.join(train_gt_dir, gt_file_name))\n",
    "\n",
    "# Copy test files to test directory\n",
    "for file_name, gt_file_name in zip(test_files, test_gt_files):\n",
    "    shutil.copyfile(os.path.join(image_dir, file_name), os.path.join(test_dir, file_name))\n",
    "    shutil.copyfile(os.path.join(gt_dir, gt_file_name), os.path.join(test_gt_dir, gt_file_name))\n",
    "\n",
    "# Display the number of files in each split\n",
    "print(\"Number of training files:\", len(train_files))\n",
    "print(\"Number of testing files:\", len(test_files))\n"
   ]
  },
  {
   "cell_type": "code",
   "execution_count": 4,
   "metadata": {},
   "outputs": [],
   "source": [
    "\n",
    "def read_pgm(filename):\n",
    "    \"\"\"\n",
    "    Reads a PGM file and returns the image data as a 2D list.\n",
    "    \"\"\"\n",
    "    with open(filename, 'rb') as f:\n",
    "        # Skip comments\n",
    "        magic_number = f.readline().strip()\n",
    "        if magic_number != b'P2':\n",
    "            raise ValueError(\"Not a PGM file\")\n",
    "        while True:\n",
    "            line = f.readline().decode('utf-8').strip()\n",
    "            if not line.startswith('#'):\n",
    "                break\n",
    "\n",
    "        # Read the header\n",
    "        width, height = map(int, line.split())\n",
    "        max_val = int(f.readline())\n",
    "\n",
    "        # Read the image data\n",
    "        pixel_values = []\n",
    "        for _ in range(height):\n",
    "            row = map(int, f.readline().split())\n",
    "            pixel_values.extend(row)\n",
    "            \n",
    "        max_value = max(pixel_values)\n",
    "        # print(max_value)\n",
    "         # Normalize pixel values to range [0, 1]\n",
    "        pixel_values = [value / max_value for value in pixel_values]\n",
    "\n",
    "        return pixel_values\n",
    "\n",
    "def read_pgm_files_from_folder(folder_path):\n",
    "    \"\"\"\n",
    "    Reads all PGM files from a folder and returns their data as a list of pixel value lists.\n",
    "    \"\"\"\n",
    "    pgm_files_pixel_values = []\n",
    "    for i, filename in enumerate(os.listdir(folder_path)):\n",
    "        if filename.endswith('.pgm'):\n",
    "            file_path = os.path.join(folder_path, filename)\n",
    "            pixel_values = read_pgm(file_path)\n",
    "            pgm_files_pixel_values.append(pixel_values)\n",
    "    return pgm_files_pixel_values\n",
    "\n",
    "\n"
   ]
  },
  {
   "cell_type": "code",
   "execution_count": 5,
   "metadata": {},
   "outputs": [],
   "source": [
    "# Example usage:\n",
    "#folder_path = 'volumes/t1_icbm_normal_1mm_pn0_rf0/train'\n",
    "folder_path = 'Skullstriped2/t1_icbm_normal_1mm_pn9_rf20/train'\n",
    "pgm_files_pixel_values = read_pgm_files_from_folder(folder_path)\n",
    "\n",
    "# Access pixel values using different lists\n",
    "for i, pixel_values in enumerate(pgm_files_pixel_values):\n",
    "    locals()[f\"train_pixel_values_{i}\"] = pixel_values"
   ]
  },
  {
   "cell_type": "code",
   "execution_count": 6,
   "metadata": {},
   "outputs": [],
   "source": [
    "# Example usage:\n",
    "folder_path = 'Skullstriped2/t1_icbm_normal_1mm_pn9_rf20/test'\n",
    "pgm_files_pixel_values = read_pgm_files_from_folder(folder_path)\n",
    "\n",
    "# Access pixel values using different lists\n",
    "for i, pixel_values in enumerate(pgm_files_pixel_values):\n",
    "    locals()[f\"test_pixel_values_{i}\"] = pixel_values\n"
   ]
  },
  {
   "cell_type": "code",
   "execution_count": 7,
   "metadata": {},
   "outputs": [],
   "source": [
    "import os\n",
    "\n",
    "def read_pgm_mask(filename):\n",
    "    \"\"\"\n",
    "    Reads a PGM file and returns the image data as a 2D list.\n",
    "    \"\"\"\n",
    "    with open(filename, 'rb') as f:\n",
    "        # Skip comments\n",
    "        magic_number = f.readline().strip()\n",
    "        if magic_number != b'P2':\n",
    "            raise ValueError(\"Not a PGM file\")\n",
    "        while True:\n",
    "            line = f.readline().decode('utf-8').strip()\n",
    "            if not line.startswith('#'):\n",
    "                break\n",
    "\n",
    "        # Read the header\n",
    "        width, height = map(int, line.split())\n",
    "        max_val = int(f.readline())\n",
    "\n",
    "        # Read the image data\n",
    "        pixel_values = []\n",
    "        for _ in range(height):\n",
    "            row = map(int, f.readline().split())\n",
    "            pixel_values.extend(row)\n",
    "            \n",
    "       # Convert pixel values greater than 3 to 0\n",
    "        pixel_values = [0 if pixel > 3 else pixel for pixel in pixel_values]\n",
    "\n",
    "        return pixel_values\n",
    "\n",
    "def read_mask_pgm_files_from_folder(folder_path):\n",
    "    \"\"\"\n",
    "    Reads all PGM files from a folder and returns their data as a list of pixel value lists.\n",
    "    \"\"\"\n",
    "    pgm_files_pixel_values = []\n",
    "    for i, filename in enumerate(os.listdir(folder_path)):\n",
    "        if filename.endswith('.pgm'):\n",
    "            file_path = os.path.join(folder_path, filename)\n",
    "            pixel_values = read_pgm_mask(file_path)\n",
    "            pgm_files_pixel_values.append(pixel_values)\n",
    "    return pgm_files_pixel_values\n",
    "\n",
    "\n"
   ]
  },
  {
   "cell_type": "code",
   "execution_count": 8,
   "metadata": {},
   "outputs": [],
   "source": [
    "# Example usage:\n",
    "folder_path = 'Skullstriped2/t1_icbm_normal_1mm_pn9_rf20/train_masks'\n",
    "pgm_files_pixel_values = read_mask_pgm_files_from_folder(folder_path)\n",
    "\n",
    "# Access pixel values using different lists\n",
    "for i, pixel_values in enumerate(pgm_files_pixel_values):\n",
    "    locals()[f\"train_mask_pixel_values_{i}\"] = pixel_values\n",
    "    \n"
   ]
  },
  {
   "cell_type": "code",
   "execution_count": 9,
   "metadata": {},
   "outputs": [],
   "source": [
    "# Example usage:\n",
    "folder_path = 'Skullstriped2/t1_icbm_normal_1mm_pn9_rf20/test_masks'\n",
    "pgm_files_pixel_values = read_mask_pgm_files_from_folder(folder_path)\n",
    "\n",
    "# Access pixel values using different lists\n",
    "for i, pixel_values in enumerate(pgm_files_pixel_values):\n",
    "    locals()[f\"test_mask_pixel_values_{i}\"] = pixel_values\n",
    "    "
   ]
  },
  {
   "cell_type": "code",
   "execution_count": 10,
   "metadata": {},
   "outputs": [],
   "source": [
    "height = 217\n",
    "width = 181\n",
    "\n",
    "model = SVC(kernel='rbf')\n",
    "\n",
    "for t in range(40):\n",
    "    X_train = []\n",
    "    k = 0\n",
    "    for i in range(width):\n",
    "        for j in range(height):\n",
    "            rows = []\n",
    "            rows.append(locals()[f'train_pixel_values_{t}'][k])\n",
    "            X_train.append(rows)\n",
    "            k += 1\n",
    "            \n",
    "    y_train = []\n",
    "    k = 0\n",
    "    for i in range(width):\n",
    "        for j in range(height):\n",
    "            y_train.append(locals()[f'train_mask_pixel_values_{t}'][k])\n",
    "            k += 1\n",
    "            \n",
    "    scaler = StandardScaler()\n",
    "    X_train_scaled = scaler.fit_transform(X_train)\n",
    "    \n",
    "    #Fit the model to the training data\n",
    "    model.fit(X_train_scaled, y_train)\n",
    "\n"
   ]
  },
  {
   "cell_type": "code",
   "execution_count": 11,
   "metadata": {},
   "outputs": [
    {
     "name": "stdout",
     "output_type": "stream",
     "text": [
      "432047\n",
      "432047\n"
     ]
    }
   ],
   "source": [
    "X_test = []\n",
    "y_test = []\n",
    "\n",
    "for t in range(11):\n",
    "    k = 0  # Reset the index for each file\n",
    "    l = 0  # Reset the index for each file\n",
    "    \n",
    "    # Load pixel values for the current file\n",
    "    test_pixel_values_t = locals().get(f'test_pixel_values_{t}', None)\n",
    "    if test_pixel_values_t is None:\n",
    "        continue  # Skip if data for current file is not found\n",
    "    \n",
    "    # Load mask pixel values for the current file\n",
    "    test_mask_pixel_values_t = locals().get(f'test_mask_pixel_values_{t}', None)\n",
    "    if test_mask_pixel_values_t is None:\n",
    "        continue  # Skip if data for current file is not found\n",
    "    \n",
    "    for i in range(width):\n",
    "        for j in range(height):\n",
    "            rows = []\n",
    "            rows.append(test_pixel_values_t[k])\n",
    "            X_test.append(rows)\n",
    "            k += 1\n",
    "            \n",
    "    for i in range(width):\n",
    "        for j in range(height):\n",
    "            y_test.append(test_mask_pixel_values_t[l])\n",
    "            l += 1\n",
    "            \n",
    "print(len(X_test))\n",
    "print(len(y_test))\n",
    "\n",
    "scaler = StandardScaler()\n",
    "X_train_scaled = scaler.fit_transform(X_train)\n",
    "X_test_scaled = scaler.transform(X_test)\n",
    "\n"
   ]
  },
  {
   "cell_type": "code",
   "execution_count": 12,
   "metadata": {},
   "outputs": [
    {
     "name": "stdout",
     "output_type": "stream",
     "text": [
      "Accuracy: 0.8979393445620499\n"
     ]
    }
   ],
   "source": [
    "y_pred = model.predict(X_test_scaled)\n",
    "\n",
    "accuracy = accuracy_score(y_test, y_pred)\n",
    "print(\"Accuracy:\", accuracy)"
   ]
  },
  {
   "cell_type": "code",
   "execution_count": 13,
   "metadata": {},
   "outputs": [
    {
     "name": "stdout",
     "output_type": "stream",
     "text": [
      "BG Accuracy: 0.9835251396389945\n"
     ]
    }
   ],
   "source": [
    "bg_test=[]\n",
    "bg_pred=[]\n",
    "\n",
    "for i in range(len(y_test)):\n",
    "    if(y_test[i]==0):\n",
    "        bg_test.append(y_test[i])\n",
    "        bg_pred.append(y_pred[i])\n",
    "\n",
    "accuracy = accuracy_score(bg_test, bg_pred)\n",
    "print(\"BG Accuracy:\", accuracy)"
   ]
  },
  {
   "cell_type": "code",
   "execution_count": 14,
   "metadata": {},
   "outputs": [
    {
     "name": "stdout",
     "output_type": "stream",
     "text": [
      "CSF Accuracy: 0.5365199244758024\n"
     ]
    }
   ],
   "source": [
    "csf_test=[]\n",
    "csf_pred=[]\n",
    "\n",
    "for i in range(len(y_test)):\n",
    "    if(y_test[i]==1):\n",
    "        csf_test.append(y_test[i])\n",
    "        csf_pred.append(y_pred[i])\n",
    "\n",
    "accuracy = accuracy_score(csf_test, csf_pred)\n",
    "print(\"CSF Accuracy:\", accuracy)"
   ]
  },
  {
   "cell_type": "code",
   "execution_count": 15,
   "metadata": {},
   "outputs": [
    {
     "name": "stdout",
     "output_type": "stream",
     "text": [
      "GM Accuracy: 0.8142445372273912\n"
     ]
    }
   ],
   "source": [
    "gm_test=[]\n",
    "gm_pred=[]\n",
    "\n",
    "for i in range(len(y_test)):\n",
    "    if(y_test[i]==2):\n",
    "        gm_test.append(y_test[i])\n",
    "        gm_pred.append(y_pred[i])\n",
    "\n",
    "accuracy = accuracy_score(gm_test, gm_pred)\n",
    "print(\"GM Accuracy:\", accuracy)"
   ]
  },
  {
   "cell_type": "code",
   "execution_count": 16,
   "metadata": {},
   "outputs": [
    {
     "name": "stdout",
     "output_type": "stream",
     "text": [
      "WM Accuracy: 0.9010555683702947\n"
     ]
    }
   ],
   "source": [
    "wm_test=[]\n",
    "wm_pred=[]\n",
    "\n",
    "for i in range(len(y_test)):\n",
    "    if(y_test[i]==3):\n",
    "        wm_test.append(y_test[i])\n",
    "        wm_pred.append(y_pred[i])\n",
    "\n",
    "accuracy = accuracy_score(wm_test, wm_pred)\n",
    "print(\"WM Accuracy:\", accuracy)"
   ]
  },
  {
   "cell_type": "code",
   "execution_count": 17,
   "metadata": {},
   "outputs": [
    {
     "data": {
      "image/png": "[encoded data removed]",
      "text/plain": [
       "<Figure size 640x480 with 2 Axes>"
      ]
     },
     "metadata": {},
     "output_type": "display_data"
    }
   ],
   "source": [
    "import matplotlib.pyplot as plt\n",
    "from sklearn.metrics import confusion_matrix, ConfusionMatrixDisplay\n",
    "\n",
    "cm = confusion_matrix(y_test, y_pred, labels=model.classes_)\n",
    "cm_display = ConfusionMatrixDisplay(confusion_matrix=cm, display_labels=model.classes_)\n",
    "cm_display.plot()\n",
    "plt.show()"
   ]
  },
  {
   "cell_type": "code",
   "execution_count": 18,
   "metadata": {},
   "outputs": [
    {
     "name": "stdout",
     "output_type": "stream",
     "text": [
      "              precision    recall  f1-score   support\n",
      "\n",
      "           0     0.9595    0.9835    0.9714    216451\n",
      "           1     0.7947    0.5365    0.6406     30189\n",
      "           2     0.8331    0.8142    0.8236     94366\n",
      "           3     0.8408    0.9011    0.8699     91041\n",
      "\n",
      "    accuracy                         0.8979    432047\n",
      "   macro avg     0.8570    0.8088    0.8263    432047\n",
      "weighted avg     0.8954    0.8979    0.8946    432047\n",
      "\n"
     ]
    }
   ],
   "source": [
    "print(classification_report(y_test,y_pred,digits=4))"
   ]
  },
  {
   "cell_type": "code",
   "execution_count": 22,
   "metadata": {},
   "outputs": [
    {
     "name": "stdout",
     "output_type": "stream",
     "text": [
      "{'C': 1.0, 'break_ties': False, 'cache_size': 200, 'class_weight': None, 'coef0': 0.0, 'decision_function_shape': 'ovr', 'degree': 3, 'gamma': 'scale', 'kernel': 'rbf', 'max_iter': -1, 'probability': False, 'random_state': None, 'shrinking': True, 'tol': 0.001, 'verbose': False}\n"
     ]
    }
   ],
   "source": [
    "print(model.get_params())"
   ]
  }
 ],
 "metadata": {
  "kernelspec": {
   "display_name": "Python 3",
   "language": "python",
   "name": "python3"
  },
  "language_info": {
   "codemirror_mode": {
    "name": "ipython",
    "version": 3
   },
   "file_extension": ".py",
   "mimetype": "text/x-python",
   "name": "python",
   "nbconvert_exporter": "python",
   "pygments_lexer": "ipython3",
   "version": "3.12.2"
  }
 },
 "nbformat": 4,
 "nbformat_minor": 2
}
